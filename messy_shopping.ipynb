{
  "nbformat": 4,
  "nbformat_minor": 0,
  "metadata": {
    "colab": {
      "provenance": [],
      "authorship_tag": "ABX9TyP44ALikjz6fa83NVJF2DR2",
      "include_colab_link": true
    },
    "kernelspec": {
      "name": "python3",
      "display_name": "Python 3"
    },
    "language_info": {
      "name": "python"
    }
  },
  "cells": [
    {
      "cell_type": "markdown",
      "metadata": {
        "id": "view-in-github",
        "colab_type": "text"
      },
      "source": [
        "<a href=\"https://colab.research.google.com/github/JASHANBHULLAR4759/COLLEGE-ASSIGNMENT-1/blob/main/messy_shopping.ipynb\" target=\"_parent\"><img src=\"https://colab.research.google.com/assets/colab-badge.svg\" alt=\"Open In Colab\"/></a>"
      ]
    },
    {
      "cell_type": "code",
      "execution_count": 1,
      "metadata": {
        "colab": {
          "base_uri": "https://localhost:8080/"
        },
        "id": "6-d8Duf-3Rjo",
        "outputId": "2e49378b-314b-4e20-ff16-975e61b7d12b"
      },
      "outputs": [
        {
          "output_type": "stream",
          "name": "stdout",
          "text": [
            "Shopping List Manager (messy)\n",
            "\n",
            "1) Add  2) View  3) Delete  4) Count  5) Exit\n",
            "Choose (1-5): 1\n",
            "New item name: milk\n",
            "Added to slot 1\n",
            "\n",
            "1) Add  2) View  3) Delete  4) Count  5) Exit\n",
            "Choose (1-5): 1\n",
            "New item name: water\n",
            "Added to slot 2\n",
            "\n",
            "1) Add  2) View  3) Delete  4) Count  5) Exit\n",
            "Choose (1-5): 4\n",
            "Total items: 2\n",
            "\n",
            "1) Add  2) View  3) Delete  4) Count  5) Exit\n",
            "Choose (1-5): 2\n",
            "1. milk\n",
            "2. water\n",
            "\n",
            "1) Add  2) View  3) Delete  4) Count  5) Exit\n",
            "Choose (1-5): 3\n",
            "Exact name to remove: water\n",
            "Removed from slot 2\n",
            "\n",
            "1) Add  2) View  3) Delete  4) Count  5) Exit\n",
            "Choose (1-5): 4\n",
            "Total items: 1\n",
            "\n",
            "1) Add  2) View  3) Delete  4) Count  5) Exit\n",
            "Choose (1-5): 5\n",
            "Bye\n"
          ]
        }
      ],
      "source": [
        "# messy_shopping (intentionally messy but works)\n",
        "\n",
        "a1=\"\";a2=\"\";a3=\"\";a4=\"\";a5=\"\";a6=\"\";a7=\"\";a8=\"\";a9=\"\";a10=\"\"  # 10 slots, empty means free\n",
        "\n",
        "print(\"Shopping List Manager (messy)\")\n",
        "\n",
        "while True:  # big loop\n",
        "    print(\"\\n1) Add  2) View  3) Delete  4) Count  5) Exit\")\n",
        "    c = input(\"Choose (1-5): \")\n",
        "\n",
        "    if c==\"1\":  # add\n",
        "        x = input(\"New item name: \")\n",
        "        if x==\"\" or x==\" \":\n",
        "            print(\"Invalid name\")\n",
        "        else:\n",
        "            if a1==\"\": a1=x; print(\"Added to slot 1\")\n",
        "            elif a2==\"\": a2=x; print(\"Added to slot 2\")\n",
        "            elif a3==\"\": a3=x; print(\"Added to slot 3\")\n",
        "            elif a4==\"\": a4=x; print(\"Added to slot 4\")\n",
        "            elif a5==\"\": a5=x; print(\"Added to slot 5\")\n",
        "            elif a6==\"\": a6=x; print(\"Added to slot 6\")\n",
        "            elif a7==\"\": a7=x; print(\"Added to slot 7\")\n",
        "            elif a8==\"\": a8=x; print(\"Added to slot 8\")\n",
        "            elif a9==\"\": a9=x; print(\"Added to slot 9\")\n",
        "            elif a10==\"\": a10=x; print(\"Added to slot 10\")\n",
        "            else:\n",
        "                print(\"List full\")\n",
        "\n",
        "    elif c==\"2\":  # view\n",
        "        k=1  # numbering\n",
        "        s=0  # seen any\n",
        "        if a1!=\"\": print(\"\",k,\". \",a1,sep=\"\"); k=k+1; s=1\n",
        "        if a2!=\"\": print(\"\",k,\". \",a2,sep=\"\"); k=k+1; s=1\n",
        "        if a3!=\"\": print(\"\",k,\". \",a3,sep=\"\"); k=k+1; s=1\n",
        "        if a4!=\"\": print(\"\",k,\". \",a4,sep=\"\"); k=k+1; s=1\n",
        "        if a5!=\"\": print(\"\",k,\". \",a5,sep=\"\"); k=k+1; s=1\n",
        "        if a6!=\"\": print(\"\",k,\". \",a6,sep=\"\"); k=k+1; s=1\n",
        "        if a7!=\"\": print(\"\",k,\". \",a7,sep=\"\"); k=k+1; s=1\n",
        "        if a8!=\"\": print(\"\",k,\". \",a8,sep=\"\"); k=k+1; s=1\n",
        "        if a9!=\"\": print(\"\",k,\". \",a9,sep=\"\"); k=k+1; s=1\n",
        "        if a10!=\"\": print(\"\",k,\". \",a10,sep=\"\"); k=k+1; s=1\n",
        "        if s==0:\n",
        "            print(\"(no items)\")\n",
        "\n",
        "    elif c==\"3\":  # delete by exact name (first match)\n",
        "        z = input(\"Exact name to remove: \")\n",
        "        if z==\"\" or z==\" \":\n",
        "            print(\"Invalid name\")\n",
        "        else:\n",
        "            r=0  # removed?\n",
        "            if r==0 and a1==z: a1=\"\"; r=1; print(\"Removed from slot 1\")\n",
        "            elif r==0 and a2==z: a2=\"\"; r=1; print(\"Removed from slot 2\")\n",
        "            elif r==0 and a3==z: a3=\"\"; r=1; print(\"Removed from slot 3\")\n",
        "            elif r==0 and a4==z: a4=\"\"; r=1; print(\"Removed from slot 4\")\n",
        "            elif r==0 and a5==z: a5=\"\"; r=1; print(\"Removed from slot 5\")\n",
        "            elif r==0 and a6==z: a6=\"\"; r=1; print(\"Removed from slot 6\")\n",
        "            elif r==0 and a7==z: a7=\"\"; r=1; print(\"Removed from slot 7\")\n",
        "            elif r==0 and a8==z: a8=\"\"; r=1; print(\"Removed from slot 8\")\n",
        "            elif r==0 and a9==z: a9=\"\"; r=1; print(\"Removed from slot 9\")\n",
        "            elif r==0 and a10==z: a10=\"\"; r=1; print(\"Removed from slot 10\")\n",
        "            if r==0:\n",
        "                print(\"Not found\")\n",
        "\n",
        "    elif c==\"4\":  # count\n",
        "        ct=0\n",
        "        if a1!=\"\": ct=ct+1\n",
        "        if a2!=\"\": ct=ct+1\n",
        "        if a3!=\"\": ct=ct+1\n",
        "        if a4!=\"\": ct=ct+1\n",
        "        if a5!=\"\": ct=ct+1\n",
        "        if a6!=\"\": ct=ct+1\n",
        "        if a7!=\"\": ct=ct+1\n",
        "        if a8!=\"\": ct=ct+1\n",
        "        if a9!=\"\": ct=ct+1\n",
        "        if a10!=\"\": ct=ct+1\n",
        "        print(\"Total items:\", ct)\n",
        "\n",
        "    elif c==\"5\":  # exit\n",
        "        print(\"Bye\")\n",
        "        break\n",
        "    else:\n",
        "        print(\"Pick 1-5 only\")\n"
      ]
    }
  ]
}